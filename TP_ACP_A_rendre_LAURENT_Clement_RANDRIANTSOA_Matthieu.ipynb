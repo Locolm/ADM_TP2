{
 "cells": [
  {
   "cell_type": "markdown",
   "metadata": {},
   "source": [
    "# TP2 ADM\n",
    "\n",
    "*LAURENT Clément*\n",
    "\n",
    "*RANDRIANTSOA Matthieu*"
   ]
  },
  {
   "cell_type": "code",
   "execution_count": 13,
   "metadata": {},
   "outputs": [],
   "source": [
    "import numpy as np\n",
    "np.set_printoptions(threshold=10000,suppress=True)\n",
    "import pandas as pd\n",
    "import warnings\n",
    "import matplotlib.pyplot as plt\n",
    "warnings.filterwarnings('ignore')\n",
    "from sklearn.preprocessing import StandardScaler\n",
    "from sklearn.decomposition import PCA"
   ]
  },
  {
   "cell_type": "markdown",
   "metadata": {},
   "source": [
    "### Question 1 :\n",
    "\n",
    "*Importer ce jeu de données avec la librairie pandas (c.f. read_csv)*"
   ]
  },
  {
   "cell_type": "code",
   "execution_count": 14,
   "metadata": {},
   "outputs": [],
   "source": [
    "data = pd.read_csv('./villes.csv', sep=';')\n",
    "X = data.iloc[:, 1:13].values\n",
    "labels = data.iloc[:, 0].values"
   ]
  },
  {
   "cell_type": "markdown",
   "metadata": {},
   "source": [
    "### Question 2 :\n",
    "\n",
    "Réaliser une Analyse en Composantes Principales (module PCA de Scikit-learn) sur ce jeu de données\n",
    "centrées réduites (StandardScaler)"
   ]
  },
  {
   "cell_type": "markdown",
   "metadata": {},
   "source": [
    "#### A)\n",
    "\n",
    "Quel est le nombre d’axes à retenir pour conserver un minimum de 90% de l’information\n",
    "représentée dans le nuage initial"
   ]
  },
  {
   "cell_type": "code",
   "execution_count": 16,
   "metadata": {},
   "outputs": [
    {
     "name": "stdout",
     "output_type": "stream",
     "text": [
      "Nombre d'axes à retenir pour conserver au moins 90% de l'information: 2\n"
     ]
    }
   ],
   "source": [
    "# Centrer et réduire les données\n",
    "scaler = StandardScaler()\n",
    "X_scaled = scaler.fit_transform(X)\n",
    "\n",
    "# Appliquer l'algorithme PCA\n",
    "pca = PCA()\n",
    "pca.fit(X_scaled)\n",
    "\n",
    "# Nombre d'axes à retenir pour conserver au moins 90% de l'information\n",
    "cumulative_variance_ratio = np.cumsum(pca.explained_variance_ratio_)\n",
    "n_components_90 = np.argmax(cumulative_variance_ratio >= 0.9) + 1\n",
    "\n",
    "print(\"Nombre d'axes à retenir pour conserver au moins 90% de l'information:\", n_components_90)\n"
   ]
  },
  {
   "cell_type": "markdown",
   "metadata": {},
   "source": [
    "##### B)\n",
    "\n",
    "Donner une interprétation des deux premiers axes principaux"
   ]
  },
  {
   "cell_type": "code",
   "execution_count": 17,
   "metadata": {},
   "outputs": [
    {
     "name": "stdout",
     "output_type": "stream",
     "text": [
      "Charges des variables originales sur les deux premiers axes principaux :\n",
      "            PC1       PC2\n",
      "janv   0.271510  0.399335\n",
      "fev    0.288462  0.299072\n",
      "mars   0.301081  0.129431\n",
      "avril  0.303542 -0.115306\n",
      "mai    0.283531 -0.323143\n",
      "juin   0.278419 -0.358468\n",
      "juil   0.272903 -0.388796\n",
      "aout   0.287578 -0.301013\n",
      "sept   0.304720 -0.112316\n",
      "oct    0.303855  0.122492\n",
      "nov    0.292428  0.262695\n",
      "dec    0.272955  0.386937\n"
     ]
    }
   ],
   "source": [
    "# Obtenir les charges des variables originales sur les deux premiers axes principaux\n",
    "pc_loadings = pca.components_[:2].T\n",
    "\n",
    "# Créer un DataFrame pour une meilleure visualisation\n",
    "loadings_df = pd.DataFrame(pc_loadings, columns=['PC1', 'PC2'], index=data.columns[1:13])\n",
    "\n",
    "print(\"Charges des variables originales sur les deux premiers axes principaux :\")\n",
    "print(loadings_df)"
   ]
  },
  {
   "cell_type": "markdown",
   "metadata": {},
   "source": [
    "#### C)\n",
    "\n",
    "Donner une visualisation graphique des villes projetées dans le plan\n",
    "principal. "
   ]
  },
  {
   "cell_type": "markdown",
   "metadata": {},
   "source": [
    "#### D)\n",
    "\n",
    "Essayer d’analyser les positions et oppositions des villes sur le plan projeté. Avec les éléments que\n",
    "vous avez, identifiez visuellement une typologie des états. "
   ]
  },
  {
   "cell_type": "markdown",
   "metadata": {},
   "source": [
    "#### E)\n",
    "\n",
    "Définir une fonction permettant de regrouper toutes les procédures précédentes. "
   ]
  },
  {
   "cell_type": "markdown",
   "metadata": {},
   "source": [
    "### Question 3 :\n",
    "\n",
    "Appliquer la fonction précédente sur le jeu de données \"crimes.csv\". Il s’agit des statistiques de criminalité\n",
    "dans 50 états américains. Dans chaque état, sept types de crimes ou délits sont repérés par leurs nombres\n",
    "annuels de faits constatés rapportés sur 100 000 habitants : meurtres (Meurtre), enlèvements (Rapt), vols\n",
    "avec violence(Vol), agressions (Attaque), viol (Viol), vols peu importants (Larcin), vols de voitures\n",
    "(Auto_Theft). Interpréter et comparer les résultats obtenus pour ce Jeu de données. Avec les éléments que\n",
    "vous avez, peut-on visuellement identifier une typologie des individus pour ce jeu de données."
   ]
  },
  {
   "cell_type": "markdown",
   "metadata": {},
   "source": [
    "### Question 4 :\n",
    "\n",
    "Faire de même pour le fichier \"50_Startups.csv\" qui comporte 50 startups américaines décrites par leurs\n",
    "dépenses en termes de R&D, d’administration et de Marketing ainsi que leur Bénéfice annuel. "
   ]
  }
 ],
 "metadata": {
  "kernelspec": {
   "display_name": "Python 3",
   "language": "python",
   "name": "python3"
  },
  "language_info": {
   "codemirror_mode": {
    "name": "ipython",
    "version": 3
   },
   "file_extension": ".py",
   "mimetype": "text/x-python",
   "name": "python",
   "nbconvert_exporter": "python",
   "pygments_lexer": "ipython3",
   "version": "3.12.3"
  }
 },
 "nbformat": 4,
 "nbformat_minor": 2
}
